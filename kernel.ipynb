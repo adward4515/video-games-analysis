{
  "cells": [
    {
      "metadata": {
        "_uuid": "eef4066a312bcf4128967b9e6505bcf462e0ba27"
      },
      "cell_type": "markdown",
      "source": "# **電玩遊戲資料分析與預測**"
    },
    {
      "metadata": {
        "_uuid": "b8b7f7704983550cf4c6d8d2c4eb2fd22c9fd35b"
      },
      "cell_type": "markdown",
      "source": "這是KAGGLE引進data的指令"
    },
    {
      "metadata": {
        "_uuid": "8f2839f25d086af736a60e9eeb907d3b93b6e0e5",
        "_cell_guid": "b1076dfc-b9ad-4769-8c92-a6c4dae69d19",
        "trusted": true
      },
      "cell_type": "code",
      "source": "# This Python 3 environment comes with many helpful analytics libraries installed\n# It is defined by the kaggle/python docker image: https://github.com/kaggle/docker-python\n# For example, here's several helpful packages to load in \n\nimport numpy as np # linear algebra\nimport pandas as pd # data processing, CSV file I/O (e.g. pd.read_csv)\n\n# Input data files are available in the \"../input/\" directory.\n# For example, running this (by clicking run or pressing Shift+Enter) will list the files in the input directory\n\nimport os\nprint(os.listdir(\"../input\"))\n\n# Any results you write to the current directory are saved as output.",
      "execution_count": null,
      "outputs": []
    },
    {
      "metadata": {
        "_cell_guid": "79c7e3d0-c299-4dcb-8224-4455121ee9b0",
        "_uuid": "d629ff2d2480ee46fbb7e2d37f6b5fab8052498a",
        "trusted": true
      },
      "cell_type": "code",
      "source": "%matplotlib inline\nimport seaborn as sns # Matplot的基礎上實作更高階的視覺化API\nimport matplotlib.pyplot as plt\n\nimport operator\nimport pandas\nfrom pandas.tools.plotting import scatter_matrix\nimport matplotlib.pyplot as plt\nfrom sklearn import model_selection\nfrom sklearn.metrics import classification_report\nfrom sklearn.metrics import confusion_matrix\nfrom sklearn.metrics import accuracy_score\nfrom sklearn.linear_model import LinearRegression\nfrom sklearn.linear_model import LogisticRegression\nfrom sklearn.tree import DecisionTreeClassifier\nfrom sklearn.neighbors import KNeighborsClassifier\nfrom sklearn.discriminant_analysis import LinearDiscriminantAnalysis\nfrom sklearn.naive_bayes import GaussianNB\nfrom sklearn.svm import SVC",
      "execution_count": null,
      "outputs": []
    },
    {
      "metadata": {
        "trusted": true,
        "_uuid": "9ff87dbcd885b26bd5bec8f53594943a1c729792"
      },
      "cell_type": "code",
      "source": "df = pd.read_csv('../input/vgsales.csv')\ndf.plot(kind = 'scatter' ,\n       x = \"Year\" ,\n       y = \"Global_Sales\" ,figsize=(20,20))",
      "execution_count": null,
      "outputs": []
    },
    {
      "metadata": {
        "_uuid": "751614f84983ca4581dd69814b3affb32ef4fbb5"
      },
      "cell_type": "markdown",
      "source": "按照發行日排序"
    },
    {
      "metadata": {
        "trusted": true,
        "_uuid": "d2eb6dcd81963766a01e0abe7216ef57a09c8813"
      },
      "cell_type": "code",
      "source": "df.sort_values(by=['Year']).head()",
      "execution_count": null,
      "outputs": []
    },
    {
      "metadata": {
        "_uuid": "1d875e33015c26c7e8f08877f7299c6c182014d2"
      },
      "cell_type": "markdown",
      "source": "查看最大出版西元年數"
    },
    {
      "metadata": {
        "trusted": true,
        "_uuid": "1417117f65a4f4e8316fc0715e92a4d80e74a427"
      },
      "cell_type": "code",
      "source": "year_data = df['Year']\nprint(\"Max Year Value: \", year_data.max())",
      "execution_count": null,
      "outputs": []
    },
    {
      "metadata": {
        "_uuid": "60bb9008b9520b8f31b508d28438b5af181d396b"
      },
      "cell_type": "markdown",
      "source": "發現有不對的出版年數，查看相對應的那筆資料"
    },
    {
      "metadata": {
        "trusted": true,
        "_uuid": "cbef517eb00aed603b6123d8ffbafe7a97814f44"
      },
      "cell_type": "code",
      "source": "max_entry = year_data.idxmax()\nmax_entry = df.iloc[max_entry]\npd.DataFrame(max_entry).T",
      "execution_count": null,
      "outputs": []
    },
    {
      "metadata": {
        "_uuid": "6c2136874174d08850f33c114d3dd07b1801a554"
      },
      "cell_type": "markdown",
      "source": "經上網查證後，將該遊戲出版年數改成正確年數"
    },
    {
      "metadata": {
        "trusted": true,
        "_uuid": "016e6fb050bc6112b57341f078391ba9b80d092d"
      },
      "cell_type": "code",
      "source": "df['Year'] = df['Year'].replace(2020.0, 2009.0)\ndf.loc[[5957]]",
      "execution_count": null,
      "outputs": []
    },
    {
      "metadata": {
        "_uuid": "cde53e806ce3f52e3237ba74fd8b73214879bc0a"
      },
      "cell_type": "markdown",
      "source": "查看總數"
    },
    {
      "metadata": {
        "_kg_hide-output": false,
        "_kg_hide-input": false,
        "trusted": true,
        "_uuid": "99868c4a282e91cbfd71223e4d8ba6d0914fd30d"
      },
      "cell_type": "code",
      "source": "#df.info()\nprint(\"Number of games: \", len(df))\npublishers = df['Publisher'].unique()\nprint(\"Number of publishers: \", len(publishers))\nplatforms = df['Platform'].unique()\nprint(\"Number of platforms: \", len(platforms))\ngenres = df['Genre'].unique()\nprint(\"Number of genres: \", len(genres))",
      "execution_count": null,
      "outputs": []
    },
    {
      "metadata": {
        "_uuid": "809249fe5199bd989a8b0b887c2db79c3898c640"
      },
      "cell_type": "markdown",
      "source": "查看是否有null值，若有就丟棄"
    },
    {
      "metadata": {
        "trusted": true,
        "_uuid": "2eb232de033ed1917a720488aeaf38b15ea313e2"
      },
      "cell_type": "code",
      "source": "print(df.isnull().sum())\ndf = df.dropna()",
      "execution_count": null,
      "outputs": []
    },
    {
      "metadata": {
        "_uuid": "a48d1058c2d74cda359b3806accdeb2eefd5e0fa"
      },
      "cell_type": "markdown",
      "source": "# **總出版遊戲數量 - 長條圖**"
    },
    {
      "metadata": {
        "trusted": true,
        "_uuid": "8ad973811b892141fb728599381e023d631a2a15"
      },
      "cell_type": "code",
      "source": "#數值資料之統計值\n#df.describe()\n#遊戲平台 數量統計\n#df['Platform'].value_counts()\n#遊戲類型 數量統計\n#df['Genre'].value_counts()\n#遊戲出版商 數量統計\n#df['Publisher'].value_counts()",
      "execution_count": null,
      "outputs": []
    },
    {
      "metadata": {
        "_uuid": "3f6311bf2ce4de2a8b53a68c3721ba0f2ebd5986"
      },
      "cell_type": "markdown",
      "source": "利用seaborn套件畫出，總出版遊戲數量之遊戲類型。其中動作類遊戲居冠，運動類遊戲其次"
    },
    {
      "metadata": {
        "trusted": true,
        "_uuid": "1baf1fcd3d02616d0a8b47f0d80ac40c499bda50"
      },
      "cell_type": "code",
      "source": "Genre = pd.crosstab(df.Genre,df.Genre)\nGenreTotal = Genre.sum(axis=1).sort_values(ascending = False)\n\nplt.figure(figsize=(20,5))\nax = sns.barplot(y = GenreTotal.index, x = GenreTotal.values, orient='h')\nax.set_xlabel(xlabel='The amount of games', fontsize=20)\nax.set_ylabel(ylabel='Genre', fontsize=20)\nax.set_title(label='Total Genre Games Released', fontsize=30)\nax.set_yticklabels(ax.get_yticklabels(), fontsize=20)\nplt.show()",
      "execution_count": null,
      "outputs": []
    },
    {
      "metadata": {
        "_uuid": "29476dcc24f29fbc8320f3d35fa1e34f6e36bc3e"
      },
      "cell_type": "markdown",
      "source": "總出版遊戲數量之遊戲平台。可以看出DS和PS2兩平台的銷售量最多"
    },
    {
      "metadata": {
        "trusted": true,
        "_uuid": "ba1fb47b5df39dffda7aaf39b8235557503c15e4"
      },
      "cell_type": "code",
      "source": "Platform = pd.crosstab(df.Platform,df.Genre)\nPlatformTotal = Platform.sum(axis=1).sort_values(ascending = False)\n\nplt.figure(figsize=(20,10))\nax = sns.barplot(y = PlatformTotal.index, x = PlatformTotal.values, orient='h')\nax.set_xlabel(xlabel='The amount of games', fontsize=20)\nax.set_ylabel(ylabel='Platform', fontsize=20)\nax.set_title(label='Total Platform Games Released', fontsize=30)\nax.set_yticklabels(ax.get_yticklabels(), fontsize=20)\nplt.show()",
      "execution_count": null,
      "outputs": []
    },
    {
      "metadata": {
        "_uuid": "7ee7fd280cf1ba597e5db1a3407eb9e30d45e541"
      },
      "cell_type": "markdown",
      "source": "總出版遊戲數量之出版商。由於出版商眾多，這裡只列出前十名。前十名中，美國公司有4家，日本公司有5家，法國公司有1家"
    },
    {
      "metadata": {
        "trusted": true,
        "_uuid": "4fb72ebcf9f43fe151666faaca9c93dd0e46b78a"
      },
      "cell_type": "code",
      "source": "Publisher = pd.crosstab(df.Publisher,df.Genre)\nPublisherTotal = Publisher.sum(axis=1).sort_values(ascending = False)[:10]\n\nplt.figure(figsize=(15,5))\ncolors = sns.color_palette(\"bright\")\nax = sns.barplot(y = PublisherTotal.index, x = PublisherTotal.values, orient='h', palette=colors)\nax.set_xlabel(xlabel='The amount of games', fontsize=20)\nax.set_ylabel(ylabel='Publisher', fontsize=20)\nax.set_title(label='Top 10 Total Publisher Games Released', fontsize=30)\nax.set_yticklabels(ax.get_yticklabels(), fontsize=20)\nplt.show()",
      "execution_count": null,
      "outputs": []
    },
    {
      "metadata": {
        "trusted": true,
        "_uuid": "5dfcf59cf249a3e8d89dc14af0a40ef08bc6bc86"
      },
      "cell_type": "code",
      "source": "y = df.groupby(['Year']).sum()\ny = y['Global_Sales']\nx = y.index.astype(int)\n\nplt.figure(figsize=(12,8))\nax = sns.barplot(y = y, x = x)\nax.set_xlabel(xlabel='Millions', fontsize=15)\nax.set_xticklabels(labels = x, fontsize=12, rotation=50)\nax.set_ylabel(ylabel='Year', fontsize=15)\nax.set_title(label='Game Sales:Millions Per Year', fontsize=20)\nplt.show();",
      "execution_count": null,
      "outputs": []
    },
    {
      "metadata": {
        "_uuid": "a2dcee52adce606e0846feaa9619e74dd6af092a"
      },
      "cell_type": "markdown",
      "source": "# **歷年出版遊戲數量 - 長條圖 + 熱力圖**"
    },
    {
      "metadata": {
        "_uuid": "e6a90c35d42d8610826d3013fe46242c83db7bf3"
      },
      "cell_type": "markdown",
      "source": "歷年出版遊戲數量"
    },
    {
      "metadata": {
        "trusted": true,
        "_uuid": "f9d95009cf61d1dc02f080a3e20d7e67449cc7a4"
      },
      "cell_type": "code",
      "source": "Publisher = pd.crosstab(df.Year,df.Genre)\nPublisherTotal = Publisher.sum(axis=1)\nx = PublisherTotal.values\ny = PublisherTotal.index.astype(int)\n\nplt.figure(figsize=(15,10))\ncolors = sns.color_palette(\"bright\")\nax = sns.barplot(y = y, x = x, orient='h', palette=colors)\nax.set_xlabel(xlabel='Number of releases', fontsize=20)\nax.set_ylabel(ylabel='Year', fontsize=20)\nax.set_title(label='Game Releases Per Year', fontsize=30)\nax.set_yticklabels(labels = y, fontsize=18)\nplt.show()",
      "execution_count": null,
      "outputs": []
    },
    {
      "metadata": {
        "_uuid": "d12b2ab6a60e04177f970089478ebde34058d36e"
      },
      "cell_type": "markdown",
      "source": "利用seaborn套件畫出歷年出版遊戲數類型熱力圖"
    },
    {
      "metadata": {
        "trusted": true,
        "_uuid": "d6392221361990e666e93975a8ad339fe473137e"
      },
      "cell_type": "code",
      "source": "table_countbyGenre = pd.pivot_table(df,values=['Global_Sales'],index=['Year'],columns=['Genre'],aggfunc='count',margins=False)\ny = table_countbyGenre.index.astype(int)\n\nplt.figure(figsize=(15,15))\nax = sns.heatmap(table_countbyGenre['Global_Sales'],linewidths=.5,annot=True,fmt='2.0f',vmin=0,cmap='coolwarm')\nax.set_xlabel(xlabel='Genre', fontsize=20)\nax.set_ylabel(ylabel='Year', fontsize=20)\nax.set_title(label='Count of games by Genre', fontsize=30)\nax.set_xticklabels(ax.get_xticklabels(), rotation=45, fontsize=20)\nax.set_yticklabels(labels = y, fontsize=20)\nplt.show()",
      "execution_count": null,
      "outputs": []
    },
    {
      "metadata": {
        "_uuid": "32ae46b037da5209472c047390d71f39a7d587a1"
      },
      "cell_type": "markdown",
      "source": "歷年遊戲平台出版遊戲數熱力圖"
    },
    {
      "metadata": {
        "trusted": true,
        "_uuid": "7e3282242c72acaa98f2c4e84e542d80a3619be3"
      },
      "cell_type": "code",
      "source": "most_pub = df.groupby('Platform').Global_Sales.sum()\nmost_pub.sort_values(ascending=False)\ntable_countbyPlatform = pd.pivot_table(df[df.Platform.isin(most_pub.sort_values(ascending=False).index)],values=['Global_Sales'],index=['Year'],columns=['Platform'],aggfunc='count',margins=False)\ny = table_countbyPlatform.index.astype(int)\n\nplt.figure(figsize=(25,15))\nax = sns.heatmap(table_countbyPlatform['Global_Sales'],linewidths=.5,annot=True,fmt='2.0f',vmin=0,cmap='coolwarm')\nax.set_xlabel(xlabel='Platform', fontsize=20)\nax.set_ylabel(ylabel='Year', fontsize=20)\nax.set_title(label='Count of games by Platform', fontsize=30)\nax.set_xticklabels(ax.get_xticklabels(), rotation=45, fontsize=20)\nax.set_yticklabels(labels = y, fontsize=20)\nplt.show()",
      "execution_count": null,
      "outputs": []
    },
    {
      "metadata": {
        "_uuid": "cea1955b24bc7adea65175c9c8b73869e635178a"
      },
      "cell_type": "markdown",
      "source": "歷年遊戲公司出版遊戲數熱力圖。這裡只列出排行前20名"
    },
    {
      "metadata": {
        "trusted": true,
        "_uuid": "d08384fe7a2b3baf01a0c46a47d4fd291935a7f9"
      },
      "cell_type": "code",
      "source": "most_pub = df.groupby('Publisher').Global_Sales.sum()\nmost_pub.sort_values(ascending=False)[:20]\ntable_countbyPublisher = pd.pivot_table(df[df.Publisher.isin(most_pub.sort_values(ascending=False)[:20].index)],values=['Global_Sales'],index=['Year'],columns=['Publisher'],aggfunc='count',margins=False)\ny = table_countbyPublisher.index.astype(int)\n\nplt.figure(figsize=(15,15))\nax = sns.heatmap(table_countbyPublisher['Global_Sales'],linewidths=.5,annot=True,fmt='2.0f',vmin=0,cmap='coolwarm')\nax.set_xlabel(xlabel='Platform', fontsize=20)\nax.set_ylabel(ylabel='Year', fontsize=20)\nax.set_title(label='Count of games by Publisher', fontsize=30)\nax.set_xticklabels(ax.get_xticklabels(), rotation=80)\nax.set_yticklabels(labels = y, fontsize=20)\nplt.show()",
      "execution_count": null,
      "outputs": []
    },
    {
      "metadata": {
        "_uuid": "2719c0a8421b8da859c7d8e0ee374fd08638b1e0"
      },
      "cell_type": "markdown",
      "source": "廠商與類型的熱力圖"
    },
    {
      "metadata": {
        "trusted": true,
        "_uuid": "50eec8d3e2dab733c2e6e83bac5ff2d6987c2113"
      },
      "cell_type": "code",
      "source": "pubGenre = pd.crosstab(df.Publisher,df.Genre)\npubGenre['Total'] = pubGenre.sum(axis=1)\npopPublisher = pubGenre[pubGenre['Total']>400].sort_values(by='Total', ascending = False)\nneeddata = popPublisher.loc[:,:'Strategy']\nmaxi = needdata.values.max()\nmini = needdata.values.min()\npopPublisherfinal = popPublisher.append(pd.DataFrame(popPublisher.sum(), columns=['total']).T, ignore_index=False)\nsns.set(font_scale=1)\nplt.figure(figsize=(15,10))\nax = sns.heatmap(popPublisherfinal, vmin = mini, vmax = maxi, annot=True, fmt=\"d\",cmap='coolwarm')\n\nax.set_xlabel(xlabel='Genre', fontsize=20)\nax.set_ylabel(ylabel='Publisher', fontsize=20)\nax.set_title(label='Count of Genre by Publisher', fontsize=30)\nax.set_xticklabels(ax.get_xticklabels(), rotation=45, fontsize=14)\nax.set_yticklabels(ax.get_yticklabels(), fontsize=14)\nplt.show()",
      "execution_count": null,
      "outputs": []
    },
    {
      "metadata": {
        "trusted": true,
        "_uuid": "c59cfab255bd5e64bd6a434a9a42423480148720"
      },
      "cell_type": "code",
      "source": "",
      "execution_count": null,
      "outputs": []
    },
    {
      "metadata": {
        "_uuid": "977a05d6b726f8c61f06163156b0f94948ec484a"
      },
      "cell_type": "markdown",
      "source": "# **各類型遊戲代表作品 - 文字雲**"
    },
    {
      "metadata": {
        "trusted": true,
        "_uuid": "4667a0092a56423a773a75af2b8c277fe3a5e39d"
      },
      "cell_type": "code",
      "source": "from wordcloud import WordCloud, STOPWORDS, ImageColorGenerator\nfrom PIL import Image\nstopwords = set(STOPWORDS)\n\nfor x in df.Genre.unique():\n    wc = WordCloud(background_color=\"white\", max_words=2000, \n                   stopwords=stopwords, max_font_size=40, random_state=42)\n    wc.generate(df.Name[df.Genre == x].to_string())\n    plt.figure(figsize=(10,10))\n    plt.imshow(wc)\n    plt.title(x, fontsize=30)\n    plt.axis(\"off\")\n    plt.show()",
      "execution_count": null,
      "outputs": []
    },
    {
      "metadata": {
        "_uuid": "d770646c5342622e51bb99cf40e37f39843282f9"
      },
      "cell_type": "markdown",
      "source": "# **使用迴歸建立數值預測模型**"
    },
    {
      "metadata": {
        "trusted": true,
        "_uuid": "a9b15ae7529c69cfcb8c36baa7271ac6ea38a67d"
      },
      "cell_type": "code",
      "source": "#plt.close()\n#fig, axs = plt.subplots(1, 3, sharey=True)\n#df.plot(kind='scatter', x='Genre', y='Global_Sales', ax=axs[0], figsize=(16, 8))\n#df.plot(kind='scatter', x='Platform', y='Global_Sales', ax=axs[1])\n#df.plot(kind='scatter', x='Publisher', y='Global_Sales', ax=axs[2])\n#plt.show()",
      "execution_count": null,
      "outputs": []
    },
    {
      "metadata": {
        "trusted": true,
        "_uuid": "1b7b7f9832b8156ba462ed82751ac87fc05e93c8"
      },
      "cell_type": "code",
      "source": "",
      "execution_count": null,
      "outputs": []
    }
  ],
  "metadata": {
    "kernelspec": {
      "display_name": "Python 3",
      "language": "python",
      "name": "python3"
    },
    "language_info": {
      "name": "python",
      "version": "3.6.6",
      "mimetype": "text/x-python",
      "codemirror_mode": {
        "name": "ipython",
        "version": 3
      },
      "pygments_lexer": "ipython3",
      "nbconvert_exporter": "python",
      "file_extension": ".py"
    }
  },
  "nbformat": 4,
  "nbformat_minor": 1
}